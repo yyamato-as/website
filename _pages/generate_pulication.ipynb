{
 "cells": [
  {
   "cell_type": "code",
   "execution_count": 1,
   "metadata": {},
   "outputs": [],
   "source": [
    "bibstr = r\"\"\"\n",
    "@ARTICLE{2023ApJ...951...11Y,\n",
    "       author = {{Yamato}, Yoshihide and {Aikawa}, Yuri and {Ohashi}, Nagayoshi and {Tobin}, John J. and {J{\\o}rgensen}, Jes K. and {Takakuwa}, Shigehisa and {Aso}, Yusuke and {Sai}, Jinshi (Insa Choi) and {Flores}, Christian and {de Gregorio-Monsalvo}, Itziar and {Hirano}, Shingo and {Han}, Ilseung and {Kido}, Miyu and {Koch}, Patrick M. and {Kwon}, Woojin and {Lai}, Shih-Ping and {Lee}, Chang Won and {Lee}, Jeong-Eun and {Li}, Zhi-Yun and {Lin}, Zhe-Yu Daniel and {Looney}, Leslie W. and {Mori}, Shoji and {Narayanan}, Suchitra and {Phuong}, Nguyen Thi and {Saigo}, Kazuya and {Santamar{\\'\\i}a-Miranda}, Alejandro and {Sharma}, Rajeeb and {Thieme}, Travis J. and {Tomida}, Kengo and {van't Hoff}, Merel L.~R. and {Yen}, Hsi-Wei},\n",
    "        title = \"{Early Planet Formation in Embedded Disks (eDisk). IV. The Ringed and Warped Structure of the Disk around the Class I Protostar L1489 IRS}\",\n",
    "      journal = {\\apj},\n",
    "     keywords = {Protoplanetary disks, Protostars, Planetary system formation, 1300, 1302, 1257, Astrophysics - Earth and Planetary Astrophysics, Astrophysics - Solar and Stellar Astrophysics},\n",
    "         year = 2023,\n",
    "        month = jul,\n",
    "       volume = {951},\n",
    "       number = {1},\n",
    "          eid = {11},\n",
    "        pages = {11},\n",
    "          doi = {10.3847/1538-4357/accd71},\n",
    "archivePrefix = {arXiv},\n",
    "       eprint = {2306.15408},\n",
    " primaryClass = {astro-ph.EP},\n",
    "       adsurl = {https://ui.adsabs.harvard.edu/abs/2023ApJ...951...11Y},\n",
    "      adsnote = {Provided by the SAO/NASA Astrophysics Data System}\n",
    "}\n",
    "\n",
    "@ARTICLE{2022ApJ...941...75Y,\n",
    "       author = {{Yamato}, Yoshihide and {Furuya}, Kenji and {Aikawa}, Yuri and {Persson}, Magnus V. and {Tobin}, John J. and {J{\\o}rgensen}, Jes K. and {Kama}, Mihkel},\n",
    "        title = \"{The First Interferometric Measurements of NH$_{2}$D/NH$_{3}$ Ratio in Hot Corinos}\",\n",
    "      journal = {\\apj},\n",
    "     keywords = {Astrochemistry, Star formation, 75, 1569, Astrophysics - Astrophysics of Galaxies, Astrophysics - Earth and Planetary Astrophysics, Astrophysics - Solar and Stellar Astrophysics},\n",
    "         year = 2022,\n",
    "        month = dec,\n",
    "       volume = {941},\n",
    "       number = {1},\n",
    "          eid = {75},\n",
    "        pages = {75},\n",
    "          doi = {10.3847/1538-4357/ac9ea5},\n",
    "archivePrefix = {arXiv},\n",
    "       eprint = {2210.16336},\n",
    " primaryClass = {astro-ph.GA},\n",
    "       adsurl = {https://ui.adsabs.harvard.edu/abs/2022ApJ...941...75Y},\n",
    "      adsnote = {Provided by the SAO/NASA Astrophysics Data System}\n",
    "}\n",
    "\"\"\""
   ]
  },
  {
   "cell_type": "code",
   "execution_count": 107,
   "metadata": {},
   "outputs": [],
   "source": [
    "journal_dict = {\n",
    "    r\"\\apj\" : {\"name\": \"The Astrophysical Jornal\", \"abbr\": \"ApJ\"},\n",
    "    r\"\\aj\"  : {\"name\": \"The Astronomical Jornal\", \"abbr\": \"AJ\"},\n",
    "    r\"\\apjs\": {\"name\": \"The Astrophysical Jornal Supplement Series\", \"abbr\": \"ApJS\"},\n",
    "}\n",
    "\n",
    "special_chr = {\n",
    "    r\"{\\o}\": \"&oslash;\",\n",
    "    r\"{\\'\\i}\": \"&iacute;\",\n",
    "    r\"~\": \" \"\n",
    "}"
   ]
  },
  {
   "cell_type": "code",
   "execution_count": 115,
   "metadata": {},
   "outputs": [
    {
     "data": {
      "text/plain": [
       "[\"2\\\\. [Early Planet Formation in Embedded Disks (eDisk). IV. The Ringed and Warped Structure of the Disk around the Class I Protostar L1489 IRS](https://ui.adsabs.harvard.edu/abs/2023ApJ...951...11Y)  \\n**Yamato, Y.**, Aikawa, Y., Ohashi, N., Tobin, J. J., J&oslash;rgensen, J. K., Takakuwa, S., Aso, Y., Sai, J., Flores, C., de Gregorio-Monsalvo, I., Hirano, S., Han, I., Kido, M., Koch, P. M., Kwon, W., Lai, S.-P., Lee, C. W., Lee, J.-E., Li, Z.-Y., Lin, Z.-Y. D., Looney, L. W., Mori, S., Narayanan, S., Phuong, N. T., Saigo, K., Santamar&iacute;a-Miranda, A., Sharma, R., Thieme, T. J., Tomida, K., van't Hoff, M. L. R., Yen, H.-W.  \\n2023, The Astrophysical Jornal, 951, 11\\n\\n\",\n",
       " '1\\\\. [The First Interferometric Measurements of NH$_2$D/NH$_3$ Ratio in Hot Corinos](https://ui.adsabs.harvard.edu/abs/2022ApJ...941...75Y)  \\n**Yamato, Y.**, Furuya, K., Aikawa, Y., Persson, M. V., Tobin, J. J., J&oslash;rgensen, J. K., Kama, M.  \\n2022, The Astrophysical Jornal, 941, 75\\n\\n']"
      ]
     },
     "execution_count": 115,
     "metadata": {},
     "output_type": "execute_result"
    }
   ],
   "source": [
    "import bibtexparser\n",
    "\n",
    "library = bibtexparser.loads(bibstr)\n",
    "\n",
    "def format_author_name(author_name):\n",
    "    family_name, first_name = author_name.split(\", \")\n",
    "    family_name = family_name.strip(r\"{}\")\n",
    "    \n",
    "    middle_name = \"\"\n",
    "    if \" \" not in first_name or \"(\" in first_name:\n",
    "        first_name_abbr = first_name[0] + \".\"\n",
    "    else:\n",
    "        first_name, middle_name = first_name.split(\" \")\n",
    "        if \".\" not in middle_name:\n",
    "            middle_name = middle_name[0] + \".\"\n",
    "\n",
    "    if \"-\" in first_name:\n",
    "        first_name_abbr = first_name.split(\"-\")[0][0] + \".-\" + first_name.split(\"-\")[1][0] + \".\"\n",
    "    else:\n",
    "        first_name_abbr = first_name[0] + \".\"\n",
    "    \n",
    "    return (family_name + \", \" + first_name_abbr + \" \" + middle_name).strip()\n",
    "        \n",
    "    \n",
    "\n",
    "str_list = []\n",
    "for i, entry in enumerate(library.entries):\n",
    "    index = len(library.entries) - i\n",
    "    string = f\"{index}\\. \"\n",
    "\n",
    "    # title with hyper link to ads\n",
    "    title = entry[\"title\"].strip(r\"{}\")\n",
    "    link = entry[\"adsurl\"]\n",
    "    string += f\"[{title}]({link})  \\n\"\n",
    "    string = string.replace(r\"{\", \"\").replace(r\"}\", \"\")\n",
    "\n",
    "    # authors\n",
    "    author_list = entry[\"author\"].split(\" and \")\n",
    "    author_list_formatted = [format_author_name(name) for name in author_list]\n",
    "    author_str = \", \".join([\"**\" + name + \"**\" if \"Yamato, Y.\" in name else name for name in author_list_formatted])\n",
    "    for chr in special_chr.keys():\n",
    "        author_str = author_str.replace(chr, special_chr[chr])\n",
    "    string += author_str + \"  \\n\"\n",
    "\n",
    "    # year\n",
    "    string += entry[\"year\"] + \", \"\n",
    "\n",
    "    # journal\n",
    "    string += journal_dict[entry[\"journal\"]][\"name\"] + \", \"\n",
    "\n",
    "    # volume and page\n",
    "    string += entry[\"volume\"] + \", \" + entry[\"pages\"]\n",
    "\n",
    "    # new line\n",
    "    string += \"\\n\\n\"\n",
    "\n",
    "    str_list.append(string)\n",
    "\n",
    "\n",
    "str_list"
   ]
  },
  {
   "cell_type": "code",
   "execution_count": 116,
   "metadata": {},
   "outputs": [],
   "source": [
    "with open(\"test.md\", \"w\") as f:\n",
    "    f.writelines(str_list)"
   ]
  },
  {
   "cell_type": "code",
   "execution_count": 101,
   "metadata": {},
   "outputs": [
    {
     "data": {
      "text/plain": [
       "['{Yamato}, Yoshihide',\n",
       " '{Aikawa}, Yuri',\n",
       " '{Ohashi}, Nagayoshi',\n",
       " '{Tobin}, John J.',\n",
       " '{J{\\\\o}rgensen}, Jes K.',\n",
       " '{Takakuwa}, Shigehisa',\n",
       " '{Aso}, Yusuke',\n",
       " '{Sai}, Jinshi (Insa Choi)',\n",
       " '{Flores}, Christian',\n",
       " '{de Gregorio-Monsalvo}, Itziar',\n",
       " '{Hirano}, Shingo',\n",
       " '{Han}, Ilseung',\n",
       " '{Kido}, Miyu',\n",
       " '{Koch}, Patrick M.',\n",
       " '{Kwon}, Woojin',\n",
       " '{Lai}, Shih-Ping',\n",
       " '{Lee}, Chang Won',\n",
       " '{Lee}, Jeong-Eun',\n",
       " '{Li}, Zhi-Yun',\n",
       " '{Lin}, Zhe-Yu Daniel',\n",
       " '{Looney}, Leslie W.',\n",
       " '{Mori}, Shoji',\n",
       " '{Narayanan}, Suchitra',\n",
       " '{Phuong}, Nguyen Thi',\n",
       " '{Saigo}, Kazuya',\n",
       " \"{Santamar{\\\\'\\\\i}a-Miranda}, Alejandro\",\n",
       " '{Sharma}, Rajeeb',\n",
       " '{Thieme}, Travis J.',\n",
       " '{Tomida}, Kengo',\n",
       " \"{van't Hoff}, Merel L.~R.\",\n",
       " '{Yen}, Hsi-Wei']"
      ]
     },
     "execution_count": 101,
     "metadata": {},
     "output_type": "execute_result"
    }
   ],
   "source": [
    "entry = library.entries[0]\n",
    "author_list = entry[\"author\"].split(\" and \")\n",
    "author_list_formatted = [name.split(\", \")[0].strip(r\"{}\") + \", \" + name.split(\", \")[1][0] + \".\" for name in author_list]\n",
    "author_str = \", \".join([\"**\" + name + \"**\" if \"Yamato, Y.\" in name else name for name in author_list_formatted])\n",
    "author_list"
   ]
  },
  {
   "cell_type": "code",
   "execution_count": 74,
   "metadata": {},
   "outputs": [
    {
     "data": {
      "text/plain": [
       "[{'adsnote': 'Provided by the SAO/NASA Astrophysics Data System',\n",
       "  'adsurl': 'https://ui.adsabs.harvard.edu/abs/2023ApJ...951...11Y',\n",
       "  'primaryclass': 'astro-ph.EP',\n",
       "  'eprint': '2306.15408',\n",
       "  'archiveprefix': 'arXiv',\n",
       "  'doi': '10.3847/1538-4357/accd71',\n",
       "  'pages': '11',\n",
       "  'eid': '11',\n",
       "  'number': '1',\n",
       "  'volume': '951',\n",
       "  'month': 'July',\n",
       "  'year': '2023',\n",
       "  'keywords': 'Protoplanetary disks, Protostars, Planetary system formation, 1300, 1302, 1257, Astrophysics - Earth and Planetary Astrophysics, Astrophysics - Solar and Stellar Astrophysics',\n",
       "  'journal': '\\\\apj',\n",
       "  'title': '{Early Planet Formation in Embedded Disks (eDisk). IV. The Ringed and Warped Structure of the Disk around the Class I Protostar L1489 IRS}',\n",
       "  'author': \"{Yamato}, Yoshihide and {Aikawa}, Yuri and {Ohashi}, Nagayoshi and {Tobin}, John J. and {J{\\\\o}rgensen}, Jes K. and {Takakuwa}, Shigehisa and {Aso}, Yusuke and {Sai}, Jinshi (Insa Choi) and {Flores}, Christian and {de Gregorio-Monsalvo}, Itziar and {Hirano}, Shingo and {Han}, Ilseung and {Kido}, Miyu and {Koch}, Patrick M. and {Kwon}, Woojin and {Lai}, Shih-Ping and {Lee}, Chang Won and {Lee}, Jeong-Eun and {Li}, Zhi-Yun and {Lin}, Zhe-Yu Daniel and {Looney}, Leslie W. and {Mori}, Shoji and {Narayanan}, Suchitra and {Phuong}, Nguyen Thi and {Saigo}, Kazuya and {Santamar{\\\\'\\\\i}a-Miranda}, Alejandro and {Sharma}, Rajeeb and {Thieme}, Travis J. and {Tomida}, Kengo and {van't Hoff}, Merel L.~R. and {Yen}, Hsi-Wei\",\n",
       "  'ENTRYTYPE': 'article',\n",
       "  'ID': '2023ApJ...951...11Y'},\n",
       " {'adsnote': 'Provided by the SAO/NASA Astrophysics Data System',\n",
       "  'adsurl': 'https://ui.adsabs.harvard.edu/abs/2022ApJ...941...75Y',\n",
       "  'primaryclass': 'astro-ph.GA',\n",
       "  'eprint': '2210.16336',\n",
       "  'archiveprefix': 'arXiv',\n",
       "  'doi': '10.3847/1538-4357/ac9ea5',\n",
       "  'pages': '75',\n",
       "  'eid': '75',\n",
       "  'number': '1',\n",
       "  'volume': '941',\n",
       "  'month': 'December',\n",
       "  'year': '2022',\n",
       "  'keywords': 'Astrochemistry, Star formation, 75, 1569, Astrophysics - Astrophysics of Galaxies, Astrophysics - Earth and Planetary Astrophysics, Astrophysics - Solar and Stellar Astrophysics',\n",
       "  'journal': '\\\\apj',\n",
       "  'title': '{The First Interferometric Measurements of NH$_{2}$D/NH$_{3}$ Ratio in Hot Corinos}',\n",
       "  'author': '{Yamato}, Yoshihide and {Furuya}, Kenji and {Aikawa}, Yuri and {Persson}, Magnus V. and {Tobin}, John J. and {J{\\\\o}rgensen}, Jes K. and {Kama}, Mihkel',\n",
       "  'ENTRYTYPE': 'article',\n",
       "  'ID': '2022ApJ...941...75Y'}]"
      ]
     },
     "execution_count": 74,
     "metadata": {},
     "output_type": "execute_result"
    }
   ],
   "source": [
    "library.entries"
   ]
  },
  {
   "cell_type": "code",
   "execution_count": null,
   "metadata": {},
   "outputs": [],
   "source": []
  }
 ],
 "metadata": {
  "kernelspec": {
   "display_name": "Python 3",
   "language": "python",
   "name": "python3"
  },
  "language_info": {
   "codemirror_mode": {
    "name": "ipython",
    "version": 3
   },
   "file_extension": ".py",
   "mimetype": "text/x-python",
   "name": "python",
   "nbconvert_exporter": "python",
   "pygments_lexer": "ipython3",
   "version": "3.10.2"
  }
 },
 "nbformat": 4,
 "nbformat_minor": 2
}
